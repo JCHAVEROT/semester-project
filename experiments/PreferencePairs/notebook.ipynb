{
 "cells": [
  {
   "cell_type": "markdown",
   "id": "13437281",
   "metadata": {},
   "source": [
    "# **Reshaping explicit and implicit data into preference pairs**"
   ]
  },
  {
   "cell_type": "markdown",
   "id": "87dc757e",
   "metadata": {},
   "source": [
    "### **Formula:**\n",
    "\n",
    "$$\n",
    "\\begin{aligned}\n",
    "\\text{Score} =\\ & \n",
    "0.2 \\cdot \\text{TimeOnTask} +\n",
    "0.1 \\cdot \\text{ScrollDepth} +\n",
    "0.1 \\cdot \\text{ScrollEvents} +\n",
    "0.2 \\cdot \\text{CompletionRate} \\\\\n",
    "& +\n",
    "0.1 \\cdot \\text{ActiveMinutes} +\n",
    "0.1 \\cdot \\text{MemoryUse} +\n",
    "0.05 \\cdot \\text{TutorInteractions} +\n",
    "0.05 \\cdot \\text{AvgModuleRating} \\\\\n",
    "& +\n",
    "0.05 \\cdot \\text{Satisfaction} +\n",
    "0.05 \\cdot (\\text{PostSkill} - \\text{PreSkill}) +\n",
    "0.05 \\cdot (\\text{Relevance} + \\text{Trust} - \\text{Difficulty}) \\\\\n",
    "& +\n",
    "0.02 \\cdot \\text{Pace} -\n",
    "0.02 \\cdot \\text{Retries} -\n",
    "0.01 \\cdot \\text{ResponseTime}\n",
    "\\end{aligned}\n",
    "$$\n"
   ]
  },
  {
   "cell_type": "code",
   "execution_count": 11,
   "id": "61934e39",
   "metadata": {},
   "outputs": [],
   "source": [
    "%load_ext autoreload\n",
    "%autoreload 2\n",
    "\n",
    "from preference_pairs import *\n",
    "import json\n",
    "import os"
   ]
  },
  {
   "cell_type": "code",
   "execution_count": null,
   "id": "3de788fd",
   "metadata": {},
   "outputs": [
    {
     "name": "stdout",
     "output_type": "stream",
     "text": [
      "20\n"
     ]
    }
   ],
   "source": [
    "# Load data\n",
    "DATA_PATH = 'data'\n",
    "data_name = [\"synth_10-samples_gpt-4o-mini_2025-05-05_08-31\", \"synth_10-samples_gpt-4o-mini_2025-05-05_08-48\"]\n",
    "user_data = []\n",
    "for file in data_name:\n",
    "    with open(os.path.join(DATA_PATH, f\"{file}.json\"), \"r\") as f:\n",
    "        user_data += (json.load(f))\n"
   ]
  },
  {
   "cell_type": "code",
   "execution_count": null,
   "id": "287d9746",
   "metadata": {},
   "outputs": [],
   "source": [
    "# Generate preference pairs\n",
    "OUTPUT_PATH = \"output\"\n",
    "preference_dataset = generate_preference_pairs(user_data)\n",
    "#with open(os.path.join(OUTPUT_PATH, f\"{data_name}_preference_pairs.json\"), \"w\") as f:\n",
    "#    json.dump(preference_dataset, f, indent=2)"
   ]
  },
  {
   "cell_type": "code",
   "execution_count": null,
   "id": "5e4da381",
   "metadata": {},
   "outputs": [],
   "source": []
  }
 ],
 "metadata": {
  "kernelspec": {
   "display_name": "CV",
   "language": "python",
   "name": "python3"
  },
  "language_info": {
   "codemirror_mode": {
    "name": "ipython",
    "version": 3
   },
   "file_extension": ".py",
   "mimetype": "text/x-python",
   "name": "python",
   "nbconvert_exporter": "python",
   "pygments_lexer": "ipython3",
   "version": "3.10.16"
  }
 },
 "nbformat": 4,
 "nbformat_minor": 5
}
