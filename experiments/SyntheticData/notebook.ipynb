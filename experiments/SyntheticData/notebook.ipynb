{
 "cells": [
  {
   "cell_type": "markdown",
   "id": "213d196d",
   "metadata": {},
   "source": [
    "# **Notebook for synthetic data generation**"
   ]
  },
  {
   "cell_type": "code",
   "execution_count": null,
   "id": "492b0083",
   "metadata": {},
   "outputs": [],
   "source": [
    "# Imports\n",
    "from openai import OpenAI\n",
    "import os\n",
    "import json"
   ]
  },
  {
   "cell_type": "code",
   "execution_count": null,
   "id": "da437892",
   "metadata": {},
   "outputs": [
    {
     "name": "stdout",
     "output_type": "stream",
     "text": [
      "Generate a realistic and diverse list of JSON objects simulating synthetic users’ interactions with ScholéAI, an AI-powered personalized online learning platform for Data Science learners. Each object must represent both explicit feedback and implicit behavior during platform usage. The structure of each object must follow exactly the schema below:\n",
      "\n",
      "{\n",
      "  \"user_id\": int,\n",
      "  \"explicit_data\": {\n",
      "    \"ratings_on_modules\": { \"module_X\": int (1–5), ... },\n",
      "    \"approval_of_content_modifications\": [\n",
      "      {\n",
      "        \"change_id\": str,\n",
      "        \"change\": str,\n",
      "        \"status\": \"approved\" | \"rejected\"\n",
      "      }\n",
      "    ],\n",
      "    \"explicit_learning_goals\": str,\n",
      "    \"drag_and_drop_curriculum_edits\": [\n",
      "      {\n",
      "        \"module\": str,\n",
      "        \"from_index\": int,\n",
      "        \"to_index\": int\n",
      "      }\n",
      "    ],\n",
      "    \"curriculum_editing_feedback\": str,\n",
      "    \"preferred_content_format\": \"text\" | \"video\" | \"audio\",\n",
      "    \"reflection_inputs\": str,\n",
      "    \"satisfaction_surveys\": {\n",
      "      \"overall_satisfaction\": int (1–5),\n",
      "      \"interface_usability\": int (1–5),\n",
      "      \"content_relevance\": int (1–5)\n",
      "    },\n",
      "    \"skill_self_assessments\": {\n",
      "      \"before_training\": int (1–5),\n",
      "      \"after_training\": int (1–5)\n",
      "    },\n",
      "    \"relevance_feedback\": int (1–5),\n",
      "    \"difficulty_feedback\": int (1–5),\n",
      "    \"trust_feedback\": int (1–5)\n",
      "  },\n",
      "  \"implicit_data\": {\n",
      "    \"timestamped_clicks\": [\n",
      "      {\n",
      "        \"timestamp\": ISO 8601 str,\n",
      "        \"element\": str\n",
      "      }\n",
      "    ],\n",
      "    \"scrolling_behavior\": {\n",
      "      \"average_scroll_depth\": int (0–100),\n",
      "      \"scroll_speed\": \"slow\" | \"medium\" | \"fast\",\n",
      "      \"scroll_events\": int\n",
      "    },\n",
      "    \"time_on_task_per_module\": {\n",
      "      \"module_X\": int (seconds), ...\n",
      "    },\n",
      "    \"skipped_modules\": [ str ],\n",
      "    \"engagement_metrics\": {\n",
      "      \"completion_rate\": int (0–100),\n",
      "      \"active_minutes\": int\n",
      "    },\n",
      "    \"pace_tracking_signals\": {\n",
      "      \"average_pace\": float (0.0–1.0)\n",
      "    },\n",
      "    \"drop_off_events\": [\n",
      "      {\n",
      "        \"timestamp\": ISO 8601 str,\n",
      "        \"module\": str\n",
      "      }\n",
      "    ],\n",
      "    \"content_adaptation_requests\": [\n",
      "      {\n",
      "        \"timestamp\": ISO 8601 str,\n",
      "        \"request\": str\n",
      "      }\n",
      "    ],\n",
      "    \"memory_usage_patterns\": {\n",
      "      \"personal_notes_added\": int,\n",
      "      \"memory_recalls\": int\n",
      "    },\n",
      "    \"interactions_with_tutor\": [\n",
      "      {\n",
      "        \"timestamp\": ISO 8601 str,\n",
      "        \"question\": str,\n",
      "        \"response\": str\n",
      "      }\n",
      "    ],\n",
      "    \"number_of_retries_on_quizzes\": {\n",
      "      \"quiz_X\": int, ...\n",
      "    },\n",
      "    \"response_times\": {\n",
      "      \"quiz_X_question_Y\": int (seconds), ...\n",
      "    }\n",
      "  }\n",
      "}\n",
      "\n",
      "Additional Instructions:\n",
      "- Return a list of such user JSON objects, each uniquely identified by a \"user_id\" integer.\n",
      "- Populate at least 2–3 modules and 1–2 quizzes per user.\n",
      "- Ensure the data looks cohesive and human-like, with realistic goals, behaviors, and feedback (e.g., a user might skip modules but still rate content highly).\n",
      "- Vary user styles (e.g., exploratory learner, fast clicker, thorough reviser, confused user).\n",
      "- Include diversity in skill levels, feedback tones, and pacing styles.\n",
      "- Use ISO 8601 format for all timestamps (e.g., \"2025-05-01T15:04:05Z\").\n",
      "- Do not invent any field names or structures. Stick strictly to the schema above.\n",
      "- Do not add any additional text, answer with the data in json format only.\n"
     ]
    }
   ],
   "source": [
    "# Retrieve the system prompt\n",
    "with open(\"prompt/data-synthetization.json\", \"r\") as f:\n",
    "    data = json.load(f)\n",
    "\n",
    "prompt = data[\"prompt\"]\n",
    "print(prompt)"
   ]
  },
  {
   "cell_type": "code",
   "execution_count": null,
   "id": "1caca433",
   "metadata": {},
   "outputs": [
    {
     "data": {
      "text/plain": [
       "[{'id': 'msg_681795ac28988191bf9eebb1d09c289d0c15dc02627e95db',\n",
       "  'content': [{'annotations': [],\n",
       "    'text': '```json\\n{\\n  \"user_id\": 1,\\n  \"explicit_data\": {\\n    \"ratings_on_modules\": { \"Introduction to Data Science\": 5, \"Machine Learning Basics\": 4, \"Data Visualization\": 3 },\\n    \"approval_of_content_modifications\": [\\n      {\\n        \"change_id\": \"mod123\",\\n        \"change\": \"Added more examples to Data Visualization\",\\n        \"status\": \"approved\"\\n      }\\n    ],\\n    \"explicit_learning_goals\": \"To gain a solid understanding of machine learning algorithms and improve data visualization skills.\",\\n    \"drag_and_drop_curriculum_edits\": [\\n      {\\n        \"module\": \"Machine Learning Basics\",\\n        \"from_index\": 1,\\n        \"to_index\": 0\\n      }\\n    ],\\n    \"curriculum_editing_feedback\": \"Would prefer more practical examples and case studies.\",\\n    \"preferred_content_format\": \"video\",\\n    \"reflection_inputs\": \"I find it useful to see real-world applications of concepts.\",\\n    \"satisfaction_surveys\": {\\n      \"overall_satisfaction\": 4,\\n      \"interface_usability\": 5,\\n      \"content_relevance\": 4\\n    },\\n    \"skill_self_assessments\": {\\n      \"before_training\": 2,\\n      \"after_training\": 4\\n    },\\n    \"relevance_feedback\": 4,\\n    \"difficulty_feedback\": 3,\\n    \"trust_feedback\": 5\\n  },\\n  \"implicit_data\": {\\n    \"timestamped_clicks\": [\\n      {\\n        \"timestamp\": \"2025-05-01T15:00:00Z\",\\n        \"element\": \"Data Visualization module\"\\n      },\\n      {\\n        \"timestamp\": \"2025-05-01T15:10:00Z\",\\n        \"element\": \"Quiz on Data Visualization\"\\n      }\\n    ],\\n    \"scrolling_behavior\": {\\n      \"average_scroll_depth\": 80,\\n      \"scroll_speed\": \"medium\",\\n      \"scroll_events\": 12\\n    },\\n    \"time_on_task_per_module\": {\\n      \"Introduction to Data Science\": 600,\\n      \"Machine Learning Basics\": 450,\\n      \"Data Visualization\": 300\\n    },\\n    \"skipped_modules\": [],\\n    \"engagement_metrics\": {\\n      \"completion_rate\": 90,\\n      \"active_minutes\": 135\\n    },\\n    \"pace_tracking_signals\": {\\n      \"average_pace\": 0.75\\n    },\\n    \"drop_off_events\": [\\n      {\\n        \"timestamp\": \"2025-05-01T15:20:00Z\",\\n        \"module\": \"Machine Learning Basics\"\\n      }\\n    ],\\n    \"content_adaptation_requests\": [\\n      {\\n        \"timestamp\": \"2025-05-01T15:05:00Z\",\\n        \"request\": \"More visual examples for Machine Learning\"\\n      }\\n    ],\\n    \"memory_usage_patterns\": {\\n      \"personal_notes_added\": 5,\\n      \"memory_recalls\": 2\\n    },\\n    \"interactions_with_tutor\": [\\n      {\\n        \"timestamp\": \"2025-05-01T15:15:00Z\",\\n        \"question\": \"Can you explain the difference between supervised and unsupervised learning?\",\\n        \"response\": \"Supervised learning uses labeled data, while unsupervised learning finds patterns in unlabeled data.\"\\n      }\\n    ],\\n    \"number_of_retries_on_quizzes\": {\\n      \"quiz_1\": 1,\\n      \"quiz_2\": 0\\n    },\\n    \"response_times\": {\\n      \"quiz_1_question_1\": 20,\\n      \"quiz_1_question_2\": 15\\n    }\\n  }\\n}\\n```',\n",
       "    'type': 'output_text'}],\n",
       "  'role': 'assistant',\n",
       "  'status': 'completed',\n",
       "  'type': 'message'}]"
      ]
     },
     "execution_count": 12,
     "metadata": {},
     "output_type": "execute_result"
    }
   ],
   "source": [
    "client = OpenAI(api_key=os.environ.get(\"OPENAI_API_KEY\", \"<your OpenAI API key if not set as env var>\"))\n",
    "model = \"gpt-4o-mini\"\n",
    "response = client.responses.create(\n",
    "    instructions=prompt,\n",
    "    model=model,\n",
    "    input=\"Generate 1 sample.\",\n",
    ")\n",
    "\n",
    "response.to_dict()[\"output\"]\n"
   ]
  }
 ],
 "metadata": {
  "kernelspec": {
   "display_name": "CV",
   "language": "python",
   "name": "python3"
  },
  "language_info": {
   "codemirror_mode": {
    "name": "ipython",
    "version": 3
   },
   "file_extension": ".py",
   "mimetype": "text/x-python",
   "name": "python",
   "nbconvert_exporter": "python",
   "pygments_lexer": "ipython3",
   "version": "3.10.16"
  }
 },
 "nbformat": 4,
 "nbformat_minor": 5
}
