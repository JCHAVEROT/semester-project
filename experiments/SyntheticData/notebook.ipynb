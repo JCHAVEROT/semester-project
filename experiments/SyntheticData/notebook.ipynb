{
 "cells": [
  {
   "cell_type": "markdown",
   "id": "213d196d",
   "metadata": {},
   "source": [
    "# Experiments with synthatic data generation"
   ]
  },
  {
   "cell_type": "markdown",
   "id": "da437892",
   "metadata": {},
   "source": [
    "# Variables i"
   ]
  }
 ],
 "metadata": {
  "kernelspec": {
   "display_name": "CV",
   "language": "python",
   "name": "python3"
  },
  "language_info": {
   "name": "python",
   "version": "3.10.16"
  }
 },
 "nbformat": 4,
 "nbformat_minor": 5
}
